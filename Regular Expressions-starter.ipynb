{
 "cells": [
  {
   "cell_type": "markdown",
   "metadata": {},
   "source": [
    "Click <a href='https://www.dataquest.io/blog/web-scraping-tutorial-python/'>here</a> to learn about Regular Expressions (RegEx) using Python."
   ]
  },
  {
   "cell_type": "code",
   "execution_count": 1,
   "metadata": {},
   "outputs": [
    {
     "ename": "SyntaxError",
     "evalue": "invalid syntax (<ipython-input-1-70bfe20273b0>, line 5)",
     "output_type": "error",
     "traceback": [
      "\u001b[0;36m  File \u001b[0;32m\"<ipython-input-1-70bfe20273b0>\"\u001b[0;36m, line \u001b[0;32m5\u001b[0m\n\u001b[0;31m    a, X, 9, < -- ordinary characters just match themselves exactly.\u001b[0m\n\u001b[0m             ^\u001b[0m\n\u001b[0;31mSyntaxError\u001b[0m\u001b[0;31m:\u001b[0m invalid syntax\n"
     ]
    }
   ],
   "source": [
    "########################\n",
    "# DO NOT RUN THIS CELL #\n",
    "########################\n",
    "\n",
    "a, X, 9, < -- ordinary characters just match themselves exactly.\n",
    ". (a period) -- matches any single character except newline '\\n'\n",
    "\\w -- matches a \"word\" character: a letter or digit or underbar [a-zA-Z0-9_].\n",
    "\\W -- matches any non-word character.\n",
    "\\b -- matches word boundary (in between a word character and a non word character)\n",
    "\\s -- matches a single whitespace character -- space, newline, return, tab\n",
    "\\S -- matches any non-whitespace character.\n",
    "\\t, \\n, \\r -- tab, newline, return\n",
    "\\d -- matches any numeric digit [0-9]\n",
    "\\D matches any non-numeric character.\n",
    "^ -- matches the beginning of the string, or specify omition of certain characters\n",
    "$ -- matches the end of the string\n",
    "\\ -- escapes special character.\n",
    "(x|y|z) matches exactly one of x, y or z.\n",
    "(x) in general is a remembered group. We can get the value of what matched by using the groups() method of the object returned by re.search.\n",
    "x? matches an optional x character (in other words, it matches an x zero or one times).\n",
    "x* matches x zero or more times.\n",
    "x+ matches x one or more times.\n",
    "x{m,n} matches an x character at least m times, but not more than n times.\n",
    "?: matches an expression but do not capture it. Non capturing group.\n",
    "?= matches a suffix but exclude it from capture. Positive lookahead.\n",
    "a(?=b) will match the \"a\" in \"ab\", but not the \"a\" in \"ac\"\n",
    "In other words, a(?=b) matches the \"a\" which is followed by the string 'b', without consuming what follows the a.\n",
    "?! matches if suffix is absent. Negative look ahead.\n",
    "a(?!b) will match the \"a\" in \"ac\", but not the \"a\" in \"ab\"\n",
    "?<= positive look behind\n",
    "[] matches for groupings of consecutive characters\n",
    "?<! negative look behind\n",
    "\n",
    "########################\n",
    "# DO NOT RUN THIS CELL #\n",
    "########################"
   ]
  },
  {
   "cell_type": "markdown",
   "metadata": {},
   "source": [
    "What are word boundaries?\n",
    "--------------------------------------------------\n",
    "Before the first character in the string, if the first character is a word character.<br>\n",
    "After the last character in the string, if the last character is a word character.<br>\n",
    "Between two characters in the string, where one is a word character and the other is not a word character<br>"
   ]
  },
  {
   "cell_type": "code",
   "execution_count": 2,
   "metadata": {},
   "outputs": [],
   "source": [
    "import re\n",
    "\n",
    "#open file\n",
    "file = open('./names.txt', encoding='utf-8')\n",
    "\n",
    "#read from the file\n",
    "data = file.read()\n",
    "\n",
    "#close the file. ALWAYS do this, never leave file stream open\n",
    "file.close()"
   ]
  },
  {
   "cell_type": "code",
   "execution_count": 3,
   "metadata": {
    "scrolled": true
   },
   "outputs": [
    {
     "data": {
      "text/plain": [
       "'Hawkins, Derek\\tderek@codingtemple.com\\t(555) 555-5555\\tTeacher, Coding Temple\\t@derekhawkins\\nMilliken, Connor\\tconnor@codingtemple.com\\t(555) 555-5554\\tTeacher, Coding Temple\\nJohnson, Joe\\tjoejohnson@codingtemple.com\\t\\tCarter, Joel\\nÖsterberg, Sven-Erik\\tgovernor@norrbotten.co.se\\t\\tGovernor, Norrbotten\\t@sverik\\n, Tim\\ttim@killerrabbit.com\\t\\tEnchanter, Killer Rabbit Cave\\nButz, Ryan\\tryanb@codingtemple.com\\t(555) 555-5543\\tCEO, Coding Temple\\t@ryanbutz\\nDoctor, The\\tdoctor+companion@tardis.co.uk\\t\\tTime Lord, Gallifrey\\nExampleson, Example\\tme@example.com\\t555-555-5552\\tExample, Example Co.\\t@example\\nObama, Barack\\tpresident.44@us.gov\\t555 555-5551\\tPresident, United States of America\\t@potus44\\nPatel, Ripal\\tripalp@codingtemple.com\\t(555) 555-5553\\tTeacher, Coding Temple\\t@ripalp\\nVader, Darth\\tdarth-vader@empire.gov\\t(555) 555-4444\\tSith Lord, Galactic Empire\\t@darthvader\\nFernández de la Vega Sanz, María Teresa\\tmtfvs@spain.gov\\t\\tFirst Deputy Prime Minister, Spanish Govt.'"
      ]
     },
     "execution_count": 3,
     "metadata": {},
     "output_type": "execute_result"
    }
   ],
   "source": [
    "data"
   ]
  },
  {
   "cell_type": "code",
   "execution_count": 4,
   "metadata": {},
   "outputs": [],
   "source": [
    "#''\n",
    "#r''\n",
    "#r\"\"\n",
    "#b''"
   ]
  },
  {
   "cell_type": "code",
   "execution_count": 5,
   "metadata": {},
   "outputs": [
    {
     "data": {
      "text/plain": [
       "943"
      ]
     },
     "execution_count": 5,
     "metadata": {},
     "output_type": "execute_result"
    }
   ],
   "source": [
    "len(data)"
   ]
  },
  {
   "cell_type": "code",
   "execution_count": 6,
   "metadata": {},
   "outputs": [
    {
     "data": {
      "text/plain": [
       "'Hawkins'"
      ]
     },
     "execution_count": 6,
     "metadata": {},
     "output_type": "execute_result"
    }
   ],
   "source": [
    "#non RE way\n",
    "data[:7]"
   ]
  },
  {
   "cell_type": "code",
   "execution_count": 7,
   "metadata": {},
   "outputs": [
    {
     "name": "stdout",
     "output_type": "stream",
     "text": [
      "Yes\n"
     ]
    }
   ],
   "source": [
    "if 'Hawkins' in data:\n",
    "    print('Yes')"
   ]
  },
  {
   "cell_type": "code",
   "execution_count": 8,
   "metadata": {},
   "outputs": [
    {
     "data": {
      "text/plain": [
       "<re.Match object; span=(0, 7), match='Hawkins'>"
      ]
     },
     "execution_count": 8,
     "metadata": {},
     "output_type": "execute_result"
    }
   ],
   "source": [
    "# .match() - Checks for specific strings starting from beginning of string\n",
    "re.match(r'Hawkins', data)"
   ]
  },
  {
   "cell_type": "code",
   "execution_count": 9,
   "metadata": {},
   "outputs": [
    {
     "data": {
      "text/plain": [
       "<re.Match object; span=(0, 7), match='Hawkins'>"
      ]
     },
     "execution_count": 9,
     "metadata": {},
     "output_type": "execute_result"
    }
   ],
   "source": [
    "re.match('Hawkins',data)"
   ]
  },
  {
   "cell_type": "code",
   "execution_count": 10,
   "metadata": {},
   "outputs": [],
   "source": [
    "# if no match, evaluates as None instead of returning an error\n",
    "re.match(r'Exampleson', data)"
   ]
  },
  {
   "cell_type": "code",
   "execution_count": 11,
   "metadata": {},
   "outputs": [
    {
     "data": {
      "text/plain": [
       "<re.Match object; span=(178, 181), match='Joe'>"
      ]
     },
     "execution_count": 11,
     "metadata": {},
     "output_type": "execute_result"
    }
   ],
   "source": [
    "#.search() - finds characters anywhere containing a string\n",
    "#Returns only one match\n",
    "re.search('Joe', data)"
   ]
  },
  {
   "cell_type": "code",
   "execution_count": 12,
   "metadata": {},
   "outputs": [
    {
     "data": {
      "text/plain": [
       "<re.Match object; span=(6, 10), match='s, D'>"
      ]
     },
     "execution_count": 12,
     "metadata": {},
     "output_type": "execute_result"
    }
   ],
   "source": [
    "re.search('\\w, \\w', data)"
   ]
  },
  {
   "cell_type": "code",
   "execution_count": 13,
   "metadata": {},
   "outputs": [
    {
     "data": {
      "text/plain": [
       "<re.Match object; span=(0, 14), match='Hawkins, Derek'>"
      ]
     },
     "execution_count": 13,
     "metadata": {},
     "output_type": "execute_result"
    }
   ],
   "source": [
    "re.search('\\w\\w\\w\\w\\w\\w\\w, \\w\\w\\w\\w\\w', data)"
   ]
  },
  {
   "cell_type": "code",
   "execution_count": 14,
   "metadata": {},
   "outputs": [
    {
     "data": {
      "text/plain": [
       "<re.Match object; span=(38, 52), match='(555) 555-5555'>"
      ]
     },
     "execution_count": 14,
     "metadata": {},
     "output_type": "execute_result"
    }
   ],
   "source": [
    "re.search('\\(555\\) 555-5555', data)"
   ]
  },
  {
   "cell_type": "markdown",
   "metadata": {},
   "source": [
    "<strong>Exercise 1</strong>:<br>\n",
    "Write a function that checks for n number of consecutive digits"
   ]
  },
  {
   "cell_type": "code",
   "execution_count": 15,
   "metadata": {},
   "outputs": [
    {
     "data": {
      "text/plain": [
       "'aaaaaaaa'"
      ]
     },
     "execution_count": 15,
     "metadata": {},
     "output_type": "execute_result"
    }
   ],
   "source": [
    "'a' * 8"
   ]
  },
  {
   "cell_type": "code",
   "execution_count": 16,
   "metadata": {},
   "outputs": [
    {
     "data": {
      "text/plain": [
       "['5555', '5554', '5543', '5552', '5551', '5553', '4444']"
      ]
     },
     "execution_count": 16,
     "metadata": {},
     "output_type": "execute_result"
    }
   ],
   "source": [
    "def find_digits(n, searchable_text):\n",
    "    return re.findall('\\d'*n, searchable_text)\n",
    "\n",
    "find_digits(4, data)"
   ]
  },
  {
   "cell_type": "markdown",
   "metadata": {},
   "source": [
    "##### In-class exercise 1: \n",
    "\n",
    "Use a regular expression to find every number in the given string"
   ]
  },
  {
   "cell_type": "code",
   "execution_count": 17,
   "metadata": {
    "scrolled": true
   },
   "outputs": [
    {
     "data": {
      "text/plain": [
       "<re.Match object; span=(38, 52), match='(555) 555-5555'>"
      ]
     },
     "execution_count": 17,
     "metadata": {},
     "output_type": "execute_result"
    }
   ],
   "source": [
    "phone_number = '(312)-213-1234'\n",
    "re.search('\\(\\d\\d\\d\\) \\d\\d\\d-\\d\\d\\d\\d', data)\n",
    "#or\n",
    "re.search('\\(\\d{3}\\) \\d{3}-\\d{4}', data)"
   ]
  },
  {
   "cell_type": "code",
   "execution_count": 18,
   "metadata": {},
   "outputs": [
    {
     "data": {
      "text/plain": [
       "['(555) 555-5555',\n",
       " '(555) 555-5554',\n",
       " '(555) 555-5543',\n",
       " '(555) 555-5553',\n",
       " '(555) 555-4444']"
      ]
     },
     "execution_count": 18,
     "metadata": {},
     "output_type": "execute_result"
    }
   ],
   "source": [
    "#.findall() finds all match of string, stores them in list\n",
    "re.findall('\\(\\d{3}\\) \\d{3}-\\d{4}', data)"
   ]
  },
  {
   "cell_type": "code",
   "execution_count": 19,
   "metadata": {
    "scrolled": true
   },
   "outputs": [
    {
     "data": {
      "text/plain": [
       "['(555) 555-5555',\n",
       " '(555) 555-5554',\n",
       " '(555) 555-5543',\n",
       " '555-555-5552',\n",
       " '555 555-5551',\n",
       " '(555) 555-5553',\n",
       " '(555) 555-4444']"
      ]
     },
     "execution_count": 19,
     "metadata": {},
     "output_type": "execute_result"
    }
   ],
   "source": [
    "re.findall('\\(?\\d{3}\\)?\\s?\\-?\\d{3}-\\d{4}', data)"
   ]
  },
  {
   "cell_type": "code",
   "execution_count": 20,
   "metadata": {},
   "outputs": [
    {
     "name": "stdout",
     "output_type": "stream",
     "text": [
      "Hello, Derek Hawkins\n",
      "Hello, Connor Milliken\n",
      "Hello, Ripal Patel\n",
      "Hello, Frank Giralamo\n"
     ]
    }
   ],
   "source": [
    "names = \"Hawkins, Derek Milliken, Connor Patel, Ripal Giralamo, Frank\"\n",
    "names_list = re.findall('\\w+, \\w+', names)\n",
    "\n",
    "for n in names_list:\n",
    "    name_list = n.split(', ')\n",
    "    print(f'Hello, {name_list[1]} {name_list[0]}')"
   ]
  },
  {
   "cell_type": "code",
   "execution_count": 21,
   "metadata": {},
   "outputs": [
    {
     "data": {
      "text/plain": [
       "['derek@codingtemple.com',\n",
       " 'connor@codingtemple.com',\n",
       " 'joejohnson@codingtemple.com',\n",
       " 'governor@norrbotten.co.se',\n",
       " 'tim@killerrabbit.com',\n",
       " 'ryanb@codingtemple.com',\n",
       " 'doctor+companion@tardis.co.uk',\n",
       " 'me@example.com',\n",
       " 'president.44@us.gov',\n",
       " 'ripalp@codingtemple.com',\n",
       " 'darth-vader@empire.gov',\n",
       " 'mtfvs@spain.gov']"
      ]
     },
     "execution_count": 21,
     "metadata": {},
     "output_type": "execute_result"
    }
   ],
   "source": [
    "re.findall('[\\w\\d.!#$%&\\'*+-/=?^_`{}|~]+@[-+.\\w\\d]+', data)"
   ]
  },
  {
   "cell_type": "code",
   "execution_count": 22,
   "metadata": {
    "scrolled": true
   },
   "outputs": [
    {
     "data": {
      "text/plain": [
       "['@codingtemple.com',\n",
       " '@derekhawkins',\n",
       " '@codingtemple.com',\n",
       " '@codingtemple.com',\n",
       " '@norrbotten.co.se',\n",
       " '@sverik',\n",
       " '@killerrabbit.com',\n",
       " '@codingtemple.com',\n",
       " '@ryanbutz',\n",
       " '@tardis.co.uk',\n",
       " '@example.com',\n",
       " '@example',\n",
       " '@us.',\n",
       " '@potus44',\n",
       " '@codingtemple.com',\n",
       " '@ripalp',\n",
       " '@empire.',\n",
       " '@darthvader',\n",
       " '@spain.']"
      ]
     },
     "execution_count": 22,
     "metadata": {},
     "output_type": "execute_result"
    }
   ],
   "source": [
    "#re.VERBOSE - Allows multiline reglar expressions (RegEx)\n",
    "re.findall('''\n",
    "    @[-+.\\w\\d]+\n",
    "    [^gov\\t\\n]\n",
    "''', data, re.VERBOSE)"
   ]
  },
  {
   "cell_type": "code",
   "execution_count": 23,
   "metadata": {},
   "outputs": [
    {
     "data": {
      "text/plain": [
       "['Patel, Ripal', 'Butz, Ryan', 'Giralamo, Frank']"
      ]
     },
     "execution_count": 23,
     "metadata": {},
     "output_type": "execute_result"
    }
   ],
   "source": [
    "information = \"\"\"\n",
    "Patel, Ripal : ripalp@codingtemple.com : (555) 555-5555\n",
    "Butz, Ryan : ryanb@codingtemple.com : 555 555-5555\n",
    "Giralamo, Frank : frankg@codingtemple.com : 555-555-5555\n",
    "\"\"\"\n",
    "\n",
    "re.findall('''\n",
    "    [\\w]+,   # last name\n",
    "    \\s       # optional space\n",
    "    [\\w ]+   # word characters w/ spac\n",
    "    [^: ]    # omit everything after the colon\n",
    "''', information, re.X)"
   ]
  },
  {
   "cell_type": "code",
   "execution_count": 24,
   "metadata": {},
   "outputs": [],
   "source": [
    "info = re.compile('''\n",
    "    (?P<name>[\\w]+,\\s[\\w ]+)                                  # last name, first name\n",
    "    (?P<email>\\s:\\s[\\w\\d.!#$%&\\'*+-/=?^_`{}|~]+@[-+.\\w\\d]+)   # email\n",
    "    (?P<phone>\\s:\\s\\(?\\d{3}\\)?-?\\s?\\d{3}-\\d{4})               # phone\n",
    "''', re.X)"
   ]
  },
  {
   "cell_type": "code",
   "execution_count": 25,
   "metadata": {
    "scrolled": true
   },
   "outputs": [
    {
     "name": "stdout",
     "output_type": "stream",
     "text": [
      "Name: Patel, Ripal\n",
      "Email: ripalp@codingtemple.com\n",
      "Phone: (555) 555-5555\n",
      "\n",
      "Name: Butz, Ryan\n",
      "Email: ryanb@codingtemple.com\n",
      "Phone: 555 555-5555\n",
      "\n",
      "Name: Giralamo, Frank\n",
      "Email: frankg@codingtemple.com\n",
      "Phone: 555-555-5555\n",
      "\n"
     ]
    }
   ],
   "source": [
    "# finditer() - method that belongs to a compiled RegEx object/search\n",
    "\n",
    "for i in info.finditer(information):\n",
    "    print(f\"Name: {i.group('name')}\\nEmail: {i.group('email')[3:]}\\nPhone: {i.group('phone')[3:]}\\n\")"
   ]
  },
  {
   "cell_type": "markdown",
   "metadata": {},
   "source": [
    "Exercise 2: Write a function to find the domain name in the given email address "
   ]
  },
  {
   "cell_type": "markdown",
   "metadata": {},
   "source": [
    "In-class Exercise 2:\n",
    "\n",
    "Write a function using regular expressions to find the domain name in the given email addresses (and return None for the invalid email addresses)<br><b>HINT: Use '|' for either or</b>"
   ]
  },
  {
   "cell_type": "code",
   "execution_count": 26,
   "metadata": {},
   "outputs": [],
   "source": [
    "my_emails = [\"jordanw@codingtemple.orgcom\", \"pocohontas1776@gmail.com\", \"helloworld@aol..com\", \"yourfavoriteband@g6.org\", \"@codingtemple.com\"]"
   ]
  },
  {
   "cell_type": "code",
   "execution_count": 27,
   "metadata": {
    "scrolled": true
   },
   "outputs": [
    {
     "name": "stdout",
     "output_type": "stream",
     "text": [
      "['@codingtemple.orgcom']\n",
      "['@gmail.com']\n",
      "['@aol..com']\n",
      "['@g6.org']\n",
      "None\n"
     ]
    }
   ],
   "source": [
    "def find_domain(a_list):\n",
    "    for item in a_list:\n",
    "        if len(re.findall('[\\w\\d.!#%&\\'*+-/=?^_`{}|~]+@[-+.\\w\\d]+', item)) > 0:\n",
    "            email = \"\".join(re.findall('[\\w\\d.!#%&\\'*+-/=?^_`{}|~]+@[-+.\\w\\d]+', item))\n",
    "            domain = re.findall('@[-+.\\w\\d]+', email)\n",
    "            just_domain = re.findall('[-+.\\w\\d]+', \"\".join(domain))\n",
    "            print(domain)\n",
    "        else:\n",
    "            print(None)\n",
    "find_domain(my_emails)"
   ]
  },
  {
   "cell_type": "code",
   "execution_count": 28,
   "metadata": {},
   "outputs": [
    {
     "name": "stdout",
     "output_type": "stream",
     "text": [
      "['codingtemple.orgcom']\n",
      "['gmail.com']\n",
      "['aol..com']\n",
      "['g6.org']\n",
      "None\n"
     ]
    }
   ],
   "source": [
    "my_emails = [\"jordanw@codingtemple.orgcom\", \"pocohontas1776@gmail.com\", \"helloworld@aol..com\", \"yourfavoriteband@g6.org\", \"@codingtemple.com\"]\n",
    "def find_domain(a_list):\n",
    "    for item in a_list:\n",
    "        if len(re.findall('[\\w\\d.!#%&\\'*+-/=?^_`{}|~]+@[-+.\\w\\d]+', item)) > 0:\n",
    "            email = re.findall('@([\\w\\d.!#%&\\'*+-/=?^_`{}|~]+)', item)\n",
    "            print(email)\n",
    "        else:\n",
    "            print(None)\n",
    "find_domain(my_emails)"
   ]
  },
  {
   "cell_type": "markdown",
   "metadata": {},
   "source": [
    "### In-Class Exercise #3 <br>\n",
    "<p>Print each persons name and twitter handle, using groups, should look like:</p>\n",
    "<p>==============<br>\n",
    "   Full Name / Twitter<br>\n",
    "   ==============</p>\n",
    "<p>Derek Hawkins / @derekhawkins<br>\n",
    "Norrbotten Governor / @sverik<br>\n",
    "Ryan Butz / @ryanbutz</p>\n",
    "<p>etc.</p>"
   ]
  },
  {
   "cell_type": "code",
   "execution_count": 29,
   "metadata": {},
   "outputs": [
    {
     "data": {
      "text/plain": [
       "['Hawkins, Derek\\t',\n",
       " 'Milliken, Connor\\t',\n",
       " 'Johnson, Joe\\t',\n",
       " 'Governor, Norrbotten\\t',\n",
       " 'Butz, Ryan\\t',\n",
       " 'Doctor, The\\t',\n",
       " 'Exampleson, Example\\t',\n",
       " 'Obama, Barack\\t',\n",
       " 'Patel, Ripal\\t',\n",
       " 'Vader, Darth\\t']"
      ]
     },
     "execution_count": 29,
     "metadata": {},
     "output_type": "execute_result"
    }
   ],
   "source": [
    "re.findall('\\w+, \\w+\\t', data)"
   ]
  },
  {
   "cell_type": "code",
   "execution_count": 30,
   "metadata": {},
   "outputs": [
    {
     "data": {
      "text/plain": [
       "['@derekhawkins',\n",
       " '@sverik',\n",
       " '@ryanbutz',\n",
       " '@example',\n",
       " '@potus44',\n",
       " '@ripalp',\n",
       " '@darthvader']"
      ]
     },
     "execution_count": 30,
     "metadata": {},
     "output_type": "execute_result"
    }
   ],
   "source": [
    "re.findall('@[-+.\\w\\d]+(?!.)', data)"
   ]
  },
  {
   "cell_type": "code",
   "execution_count": 31,
   "metadata": {},
   "outputs": [
    {
     "name": "stdout",
     "output_type": "stream",
     "text": [
      "Name: Hawkins, Derek\n",
      "Email: derek@codingtemple.com\n",
      "Phone: (555) 555-5555\n",
      "Occupation: Teacher, Coding Temple\t\n",
      "Twitter: @derekhawkins\n",
      "\n",
      "Name: Milliken, Connor\n",
      "Email: connor@codingtemple.com\n",
      "Phone: (555) 555-5554\n",
      "Occupation: Teacher, Coding Temple\n",
      "Twitter: None\n",
      "\n",
      "Name: Johnson, Joe\n",
      "Email: joejohnson@codingtemple.com\n",
      "Phone: None\n",
      "Occupation: Carter, Joel\n",
      "Twitter: None\n",
      "\n",
      "Name: Österberg, Sven-Erik\n",
      "Email: governor@norrbotten.co.se\n",
      "Phone: None\n",
      "Occupation: Governor, Norrbotten\t\n",
      "Twitter: @sverik\n",
      "\n",
      "Name: , Tim\n",
      "Email: tim@killerrabbit.com\n",
      "Phone: None\n",
      "Occupation: Enchanter, Killer Rabbit Cave\n",
      "Twitter: None\n",
      "\n",
      "Name: Butz, Ryan\n",
      "Email: ryanb@codingtemple.com\n",
      "Phone: (555) 555-5543\n",
      "Occupation: CEO, Coding Temple\t\n",
      "Twitter: @ryanbutz\n",
      "\n",
      "Name: Doctor, The\n",
      "Email: doctor+companion@tardis.co.uk\n",
      "Phone: None\n",
      "Occupation: Time Lord, Gallifrey\n",
      "Twitter: None\n",
      "\n",
      "Name: Exampleson, Example\n",
      "Email: me@example.com\n",
      "Phone: 555-555-5552\n",
      "Occupation: Example, Example Co.\t\n",
      "Twitter: @example\n",
      "\n",
      "Name: Obama, Barack\n",
      "Email: president.44@us.gov\n",
      "Phone: 555 555-5551\n",
      "Occupation: President, United States of America\t\n",
      "Twitter: @potus44\n",
      "\n",
      "Name: Patel, Ripal\n",
      "Email: ripalp@codingtemple.com\n",
      "Phone: (555) 555-5553\n",
      "Occupation: Teacher, Coding Temple\t\n",
      "Twitter: @ripalp\n",
      "\n",
      "Name: Vader, Darth\n",
      "Email: darth-vader@empire.gov\n",
      "Phone: (555) 555-4444\n",
      "Occupation: Sith Lord, Galactic Empire\t\n",
      "Twitter: @darthvader\n",
      "\n",
      "Name: Fernández de la Vega Sanz, María Teresa\n",
      "Email: mtfvs@spain.gov\n",
      "Phone: None\n",
      "Occupation: First Deputy Prime Minister, Spanish Govt.\n",
      "Twitter: None\n",
      "\n"
     ]
    }
   ],
   "source": [
    "info = re.compile(r'''\n",
    "    ^(?P<name>[-\\w\\s]*,\\s\\w+[-\\w\\s]*)\\t        # last name, first name\n",
    "    (?P<email>[-.+\\w\\d]+@[-.+\\w\\d]+)\\t         # email\n",
    "    (?P<phone>\\(?\\d{3}\\)?\\s?-?\\d{3}-\\d{4})?\\t  # phone\n",
    "    (?P<occupation>[\\w\\d\\s]*,\\s[\\w\\d\\s.]*)\\t?  # occupation, company\n",
    "    (?P<twitter>@[\\w\\d]+)?$                    # Twitter handle\n",
    "''', re.X|re.M)\n",
    "\n",
    "for i in info.finditer(data):\n",
    "    print(f\"Name: {i.group('name')}\\nEmail: {i.group('email')}\\nPhone: {i.group('phone')}\\nOccupation: {i.group('occupation')}\\nTwitter: {i.group('twitter')}\\n\")"
   ]
  },
  {
   "cell_type": "code",
   "execution_count": null,
   "metadata": {},
   "outputs": [],
   "source": []
  }
 ],
 "metadata": {
  "kernelspec": {
   "display_name": "Python 3",
   "language": "python",
   "name": "python3"
  },
  "language_info": {
   "codemirror_mode": {
    "name": "ipython",
    "version": 3
   },
   "file_extension": ".py",
   "mimetype": "text/x-python",
   "name": "python",
   "nbconvert_exporter": "python",
   "pygments_lexer": "ipython3",
   "version": "3.8.3"
  }
 },
 "nbformat": 4,
 "nbformat_minor": 2
}
